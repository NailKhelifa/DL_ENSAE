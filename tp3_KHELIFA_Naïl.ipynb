{
 "cells": [
  {
   "cell_type": "code",
   "execution_count": 1,
   "metadata": {},
   "outputs": [],
   "source": [
    "# MNIST with an MLP, from scratch\n",
    "\n",
    "# - Step 1: build an MLP from scratch to solve MNIST. Question set: https://fleuret.org/dlc/materials/dlc-practical-3.pdf\n",
    "# - Step 2: debug your network with backprop ninja and a reference implementation using torch's .backward()\n",
    "# - Step 3: build the same MLP but will full pytorch code (nn.Linear, etc.)"
   ]
  },
  {
   "cell_type": "code",
   "execution_count": 2,
   "metadata": {},
   "outputs": [],
   "source": [
    "import math\n",
    "import numpy as np\n",
    "import torch\n",
    "from torch import nn\n",
    "import matplotlib.pyplot as plt\n",
    "%matplotlib inline"
   ]
  },
  {
   "cell_type": "code",
   "execution_count": 3,
   "metadata": {},
   "outputs": [],
   "source": [
    "from utils import load_data"
   ]
  },
  {
   "cell_type": "code",
   "execution_count": 4,
   "metadata": {},
   "outputs": [
    {
     "name": "stdout",
     "output_type": "stream",
     "text": [
      "* Using MNIST\n",
      "** Reduce the data-set (use --full for the full thing)\n",
      "** Use 1000 train and 1000 test samples\n"
     ]
    }
   ],
   "source": [
    "train_input, train_target, test_input, test_target = load_data(one_hot_labels = True, normalize = True)"
   ]
  },
  {
   "cell_type": "code",
   "execution_count": 5,
   "metadata": {},
   "outputs": [
    {
     "data": {
      "text/plain": [
       "<matplotlib.image.AxesImage at 0x7fb6569059a0>"
      ]
     },
     "execution_count": 5,
     "metadata": {},
     "output_type": "execute_result"
    },
    {
     "data": {
      "image/png": "[encoded data removed]",
      "text/plain": [
       "<Figure size 640x480 with 1 Axes>"
      ]
     },
     "metadata": {},
     "output_type": "display_data"
    }
   ],
   "source": [
    "plt.imshow(train_input[4].view((28,28)))"
   ]
  },
  {
   "cell_type": "code",
   "execution_count": 6,
   "metadata": {},
   "outputs": [],
   "source": [
    "def compute_accuracy (preds, targets):\n",
    "    \"\"\" Computes the accuracy between predictions and targets. Data is expected to be one-hot encoded. \"\"\"\n",
    "    _, idx1 = torch.max(preds, dim=1)\n",
    "    _, idx2 = torch.max(targets, dim=1)\n",
    "    d = idx1 == idx2\n",
    "    return d.int().float().mean().item()"
   ]
  },
  {
   "cell_type": "code",
   "execution_count": 7,
   "metadata": {},
   "outputs": [
    {
     "data": {
      "text/plain": [
       "0.75"
      ]
     },
     "execution_count": 7,
     "metadata": {},
     "output_type": "execute_result"
    }
   ],
   "source": [
    "# unit test\n",
    "# this cell should return 0.75\n",
    "preds = torch.zeros((4,7))\n",
    "preds[0,1] = 1\n",
    "preds[1,4] = 1\n",
    "preds[2,2] = 1\n",
    "preds[3,6] = 1\n",
    "targets = torch.zeros((4,7))\n",
    "targets[0,1] = 1\n",
    "targets[1,4] = 1\n",
    "targets[2,2] = 1\n",
    "targets[3,2] = 1\n",
    "compute_accuracy(preds, targets)"
   ]
  },
  {
   "cell_type": "code",
   "execution_count": 8,
   "metadata": {},
   "outputs": [],
   "source": [
    "def sigma(x):\n",
    "    return torch.tanh(x)\n",
    "\n",
    "def dsigma(x):\n",
    "    return 1 - torch.pow(sigma(x), 2)"
   ]
  },
  {
   "cell_type": "code",
   "execution_count": 9,
   "metadata": {},
   "outputs": [],
   "source": [
    "def loss (v,t):\n",
    "    \n",
    "    return torch.sum(torch.pow(v-t, 2))\n",
    "\n",
    "def dloss(v,t):\n",
    "    \n",
    "    return torch.mul(2, (v-t))"
   ]
  },
  {
   "cell_type": "code",
   "execution_count": 10,
   "metadata": {},
   "outputs": [
    {
     "data": {
      "text/plain": [
       "tensor([[ 1.1523,  1.3528, -0.5480, -1.3731, -1.6717, -2.3473],\n",
       "        [ 2.9173,  1.4981, -1.6015, -1.7099,  1.3314,  3.7901],\n",
       "        [-1.9368, -5.4828,  0.0657,  3.2819, -0.0167, -1.5539]])"
      ]
     },
     "execution_count": 10,
     "metadata": {},
     "output_type": "execute_result"
    }
   ],
   "source": [
    "# sanity check\n",
    "v = torch.randn((3, 6), dtype=torch.float32)\n",
    "t = torch.randn((3, 6), dtype=torch.float32)\n",
    "l=loss(v,t)\n",
    "dloss(v,t)"
   ]
  },
  {
   "cell_type": "code",
   "execution_count": 11,
   "metadata": {},
   "outputs": [],
   "source": [
    "# multiply targets by 0.9 to be in the range of tanh\n",
    "train_target *= 0.9\n",
    "test_target *= 0.9"
   ]
  },
  {
   "cell_type": "markdown",
   "metadata": {},
   "source": [
    "### Step 1: Backprop ninja"
   ]
  },
  {
   "cell_type": "code",
   "execution_count": 12,
   "metadata": {},
   "outputs": [],
   "source": [
    "# utility function we will use later when comparing manual gradients to PyTorch gradients\n",
    "# DO NOT MODIFY IT\n",
    "#\n",
    "def cmp(s, dt, t):\n",
    "  ex = torch.all(dt == t.grad).item()\n",
    "  app = torch.allclose(dt, t.grad)\n",
    "  maxdiff = (dt - t.grad).abs().max().item()\n",
    "  print(f'{s:15s} | exact: {str(ex):5s} | approximate: {str(app):5s} | maxdiff: {maxdiff}')"
   ]
  },
  {
   "cell_type": "code",
   "execution_count": 13,
   "metadata": {},
   "outputs": [],
   "source": [
    "torch.manual_seed(1337)\n",
    "w1 = torch.randn((784, 50)) \n",
    "b1 = torch.randn((50))\n",
    "w2 = torch.randn((50, 10)) \n",
    "b2 = torch.randn((10))\n",
    "parameters = [w1, b1, w2, b2]\n",
    "for p in parameters:\n",
    "    p.requires_grad = True"
   ]
  },
  {
   "cell_type": "code",
   "execution_count": 14,
   "metadata": {},
   "outputs": [
    {
     "name": "stderr",
     "output_type": "stream",
     "text": [
      "/var/folders/kd/c_69_lv95n33jqfn1l50n0ww0000gn/T/ipykernel_55845/1095281723.py:3: UserWarning: The use of `x.T` on tensors of dimension other than 2 to reverse their shape is deprecated and it will throw an error in a future release. Consider `x.mT` to transpose batches of matrices or `x.permute(*torch.arange(x.ndim - 1, -1, -1))` to reverse the dimensions of a tensor. (Triggered internally at /Users/runner/work/pytorch/pytorch/pytorch/aten/src/ATen/native/TensorShape.cpp:3641.)\n",
      "  z1 = x1 @ w1 + b1.T\n"
     ]
    },
    {
     "data": {
      "text/plain": [
       "(torch.Size([5, 10]), tensor(43.2825, grad_fn=<SumBackward0>))"
      ]
     },
     "execution_count": 14,
     "metadata": {},
     "output_type": "execute_result"
    }
   ],
   "source": [
    "x1 = train_input[:5]\n",
    "y1 = train_target[:5]\n",
    "z1 = x1 @ w1 + b1.T\n",
    "h1 = sigma(z1)\n",
    "z2 = h1 @ w2 + b2.T\n",
    "h2 = sigma(z2)\n",
    "l = loss(h2, y1)\n",
    "h2.shape, l"
   ]
  },
  {
   "cell_type": "code",
   "execution_count": 15,
   "metadata": {},
   "outputs": [
    {
     "name": "stdout",
     "output_type": "stream",
     "text": [
      "loss=43.28252410888672\n"
     ]
    }
   ],
   "source": [
    "# Force pytorch to retain grade for intermediate nodes and reset grad for parameters\n",
    "# DO NOT MODIFY THIS CODE\n",
    "#\n",
    "others = [h2,z2,h1,z1]\n",
    "for p in parameters:\n",
    "    p.grad = None\n",
    "for t in others:\n",
    "    t.retain_grad()\n",
    "l.backward()\n",
    "print(f'loss={l}')"
   ]
  },
  {
   "cell_type": "code",
   "execution_count": 16,
   "metadata": {},
   "outputs": [
    {
     "data": {
      "text/plain": [
       "torch.Size([10])"
      ]
     },
     "execution_count": 16,
     "metadata": {},
     "output_type": "execute_result"
    }
   ],
   "source": [
    "b2.grad.shape"
   ]
  },
  {
   "cell_type": "code",
   "execution_count": 17,
   "metadata": {},
   "outputs": [
    {
     "name": "stdout",
     "output_type": "stream",
     "text": [
      "h2              | exact: True  | approximate: True  | maxdiff: 0.0\n",
      "z2              | exact: True  | approximate: True  | maxdiff: 0.0\n",
      "w2              | exact: True  | approximate: True  | maxdiff: 0.0\n",
      "b2              | exact: True  | approximate: True  | maxdiff: 0.0\n",
      "h1              | exact: True  | approximate: True  | maxdiff: 0.0\n",
      "z1              | exact: True  | approximate: True  | maxdiff: 0.0\n",
      "w1              | exact: True  | approximate: True  | maxdiff: 0.0\n",
      "b1              | exact: True  | approximate: True  | maxdiff: 0.0\n"
     ]
    }
   ],
   "source": [
    "# here we compare our gradient to the reference gradient computed by pytorch\n",
    "dl = 1.0\n",
    "dh2 = dloss(h2, y1) * dl\n",
    "cmp('h2',dh2,h2)\n",
    "dz2 = dsigma(z2) * dh2\n",
    "cmp('z2',dz2, z2)\n",
    "dw2 = h1.T @ dz2\n",
    "cmp('w2',dw2, w2)\n",
    "db2 = dz2.sum(axis=0, keepdim=True)\n",
    "cmp('b2',db2, b2)\n",
    "dh1 = dz2 @ w2.T\n",
    "cmp('h1',dh1, h1)\n",
    "dz1 = dsigma(z1) * dh1\n",
    "cmp('z1', dz1, z1)\n",
    "dw1 = x1.T @ dz1\n",
    "cmp('w1', dw1, w1)\n",
    "db1 = dz1.sum(axis=0, keepdim=True)\n",
    "cmp('b1', db1, b1)"
   ]
  },
  {
   "cell_type": "code",
   "execution_count": 18,
   "metadata": {},
   "outputs": [],
   "source": [
    "lr = 0.1\n",
    "with torch.no_grad():\n",
    "    w1 += -lr * dw1\n",
    "    b1 += -lr * db1.squeeze()\n",
    "    w2 += -lr * dw2\n",
    "    b2 += -lr * db2.squeeze()"
   ]
  },
  {
   "cell_type": "code",
   "execution_count": 19,
   "metadata": {},
   "outputs": [
    {
     "data": {
      "text/plain": [
       "43.28252410888672"
      ]
     },
     "execution_count": 19,
     "metadata": {},
     "output_type": "execute_result"
    }
   ],
   "source": [
    "l = loss(h2, y1)\n",
    "l.item()"
   ]
  },
  {
   "cell_type": "markdown",
   "metadata": {},
   "source": [
    "##### Now that we've checked our gradients are correct, we can implement the network"
   ]
  },
  {
   "cell_type": "code",
   "execution_count": 20,
   "metadata": {},
   "outputs": [],
   "source": [
    "def forward(w1, b1, w2, b2, x1):\n",
    "    z1 = x1 @ w1 + b1.T\n",
    "    h1 = sigma(z1)\n",
    "    z2 = h1 @ w2 + b2.T\n",
    "    h2 = sigma(z2)\n",
    "    return z1, h1, z2, h2\n"
   ]
  },
  {
   "cell_type": "code",
   "execution_count": 21,
   "metadata": {},
   "outputs": [],
   "source": [
    "def backward(w1, b1, w2, b2, x1, y1, h2, z2, h1, z1):\n",
    "    dl = 1.0\n",
    "    dh2 = dloss(h2, y1) * dl\n",
    "    dz2 = dsigma(z2) * dh2\n",
    "    dw2 = h1.T @ dz2\n",
    "    db2 = dz2.sum(axis=0, keepdim=True)\n",
    "    dh1 = dz2 @ w2.T\n",
    "    dz1 = dsigma(z1) * dh1\n",
    "    dw1 = x1.T @ dz1\n",
    "    db1 = dz1.sum(axis=0, keepdim=True)\n",
    "    return dw1, db1, dw2, db2"
   ]
  },
  {
   "cell_type": "code",
   "execution_count": 22,
   "metadata": {},
   "outputs": [],
   "source": [
    "def update(w1, b1, w2, b2, dw1, db1, dw2, db2, lr):\n",
    "    with torch.no_grad():\n",
    "        w1 += -lr * dw1\n",
    "        b1 += -lr * db1.squeeze()\n",
    "        w2 += -lr * dw2\n",
    "        b2 += -lr * db2.squeeze()\n",
    "    return w1, b1, w2, b2"
   ]
  },
  {
   "cell_type": "code",
   "execution_count": 23,
   "metadata": {},
   "outputs": [],
   "source": [
    "def init():\n",
    "    \"\"\" init a network \"\"\"\n",
    "    w1 = torch.randn((784, 50), requires_grad=True) \n",
    "    b1 = torch.randn((50), requires_grad=True)\n",
    "    w2 = torch.randn((50, 10), requires_grad=True) \n",
    "    b2 = torch.randn((10), requires_grad=True)\n",
    "    return w1, b1, w2, b2"
   ]
  },
  {
   "cell_type": "code",
   "execution_count": 24,
   "metadata": {},
   "outputs": [],
   "source": [
    "w1, b1, w2, b2 = init()\n",
    "parameters = [w1, b1, w2, b2]\n",
    "for p in parameters:\n",
    "    p.requires_grad_(True)"
   ]
  },
  {
   "cell_type": "code",
   "execution_count": 25,
   "metadata": {},
   "outputs": [],
   "source": [
    "# main training loop\n",
    "torch.set_printoptions(linewidth=200)\n",
    "def train(w1, b1, w2, b2):\n",
    "    lossi = []\n",
    "    for step in range(10000):\n",
    "        xb = train_input[:5]\n",
    "        yb = train_target[:5]\n",
    "        num_samples = xb.shape[0]\n",
    "        # forward\n",
    "        z1, h1, z2, h2 = forward(w1, b1, w2, b2, xb)\n",
    "        lsi = loss(h2, yb)\n",
    "        # backward\n",
    "        dw1, db1, dw2, db2 = backward(w1, b1, w2, b2, x1, y1, h2, z2, h1, z1)\n",
    "        # update\n",
    "        lr = 0.1 / num_samples if step < 5000 else 0.01 / num_samples\n",
    "        w1, b1, w2, b2 = update(w1, b1, w2, b2, dw1, db1, dw2, db2, lr)\n",
    "        if step % 100 == 0: print(f'step = {step}, loss = {lsi}')\n",
    "        lossi.append(lsi.item())\n",
    "    # compute accuracy\n",
    "    _, _, _, preds = forward(w1, b1, w2, b2, train_input)\n",
    "    train_accuracy = compute_accuracy(preds, train_target)\n",
    "    _, _, _, preds = forward(w1, b1, w2, b2, test_input)\n",
    "    test_accuracy = compute_accuracy(preds, test_target)\n",
    "    print(f'{train_accuracy=}')\n",
    "    print(f'{test_accuracy=}')\n",
    "    return lossi\n",
    "    "
   ]
  },
  {
   "cell_type": "code",
   "execution_count": 26,
   "metadata": {},
   "outputs": [
    {
     "name": "stdout",
     "output_type": "stream",
     "text": [
      "step = 0, loss = 49.75879669189453\n"
     ]
    },
    {
     "name": "stdout",
     "output_type": "stream",
     "text": [
      "step = 100, loss = 30.87749481201172\n",
      "step = 200, loss = 30.878313064575195\n",
      "step = 300, loss = 30.059812545776367\n",
      "step = 400, loss = 29.930912017822266\n",
      "step = 500, loss = 29.927156448364258\n",
      "step = 600, loss = 29.92056655883789\n",
      "step = 700, loss = 28.314281463623047\n",
      "step = 800, loss = 26.91196060180664\n",
      "step = 900, loss = 27.032424926757812\n",
      "step = 1000, loss = 27.035686492919922\n",
      "step = 1100, loss = 27.035446166992188\n",
      "step = 1200, loss = 27.03508949279785\n",
      "step = 1300, loss = 27.034521102905273\n",
      "step = 1400, loss = 27.032886505126953\n",
      "step = 1500, loss = 26.050735473632812\n",
      "step = 1600, loss = 26.180971145629883\n",
      "step = 1700, loss = 26.18096351623535\n",
      "step = 1800, loss = 26.180912017822266\n",
      "step = 1900, loss = 26.180795669555664\n",
      "step = 2000, loss = 26.181467056274414\n",
      "step = 2100, loss = 26.183025360107422\n",
      "step = 2200, loss = 26.18302345275879\n",
      "step = 2300, loss = 26.182952880859375\n",
      "step = 2400, loss = 26.182886123657227\n",
      "step = 2500, loss = 26.18280792236328\n",
      "step = 2600, loss = 26.18271827697754\n",
      "step = 2700, loss = 26.182607650756836\n",
      "step = 2800, loss = 26.182458877563477\n",
      "step = 2900, loss = 26.18222999572754\n",
      "step = 3000, loss = 26.18178939819336\n",
      "step = 3100, loss = 26.180585861206055\n",
      "step = 3200, loss = 26.177629470825195\n",
      "step = 3300, loss = 26.177282333374023\n",
      "step = 3400, loss = 26.176532745361328\n",
      "step = 3500, loss = 26.17432403564453\n",
      "step = 3600, loss = 25.27475929260254\n",
      "step = 3700, loss = 25.273347854614258\n",
      "step = 3800, loss = 25.271657943725586\n",
      "step = 3900, loss = 25.270273208618164\n",
      "step = 4000, loss = 25.268686294555664\n",
      "step = 4100, loss = 25.266565322875977\n",
      "step = 4200, loss = 25.263397216796875\n",
      "step = 4300, loss = 25.257431030273438\n",
      "step = 4400, loss = 25.10599136352539\n",
      "step = 4500, loss = 24.060178756713867\n",
      "step = 4600, loss = 24.100996017456055\n",
      "step = 4700, loss = 24.03922462463379\n",
      "step = 4800, loss = 24.06527328491211\n",
      "step = 4900, loss = 24.110855102539062\n",
      "step = 5000, loss = 24.03890609741211\n",
      "step = 5100, loss = 19.01968002319336\n",
      "step = 5200, loss = 19.019535064697266\n",
      "step = 5300, loss = 19.01946258544922\n",
      "step = 5400, loss = 19.019432067871094\n",
      "step = 5500, loss = 19.019412994384766\n",
      "step = 5600, loss = 19.0194034576416\n",
      "step = 5700, loss = 19.019397735595703\n",
      "step = 5800, loss = 19.019392013549805\n",
      "step = 5900, loss = 19.019386291503906\n",
      "step = 6000, loss = 19.019380569458008\n",
      "step = 6100, loss = 19.01937484741211\n",
      "step = 6200, loss = 19.01936912536621\n",
      "step = 6300, loss = 19.019365310668945\n",
      "step = 6400, loss = 19.019359588623047\n",
      "step = 6500, loss = 19.019351959228516\n",
      "step = 6600, loss = 19.019344329833984\n",
      "step = 6700, loss = 19.019338607788086\n",
      "step = 6800, loss = 19.019332885742188\n",
      "step = 6900, loss = 19.019325256347656\n",
      "step = 7000, loss = 19.019319534301758\n",
      "step = 7100, loss = 19.019311904907227\n",
      "step = 7200, loss = 19.019306182861328\n",
      "step = 7300, loss = 19.019298553466797\n",
      "step = 7400, loss = 19.019290924072266\n",
      "step = 7500, loss = 19.019283294677734\n",
      "step = 7600, loss = 19.019275665283203\n",
      "step = 7700, loss = 19.019268035888672\n",
      "step = 7800, loss = 19.019258499145508\n",
      "step = 7900, loss = 19.019250869750977\n",
      "step = 8000, loss = 19.019241333007812\n",
      "step = 8100, loss = 19.01923370361328\n",
      "step = 8200, loss = 19.019224166870117\n",
      "step = 8300, loss = 19.019214630126953\n",
      "step = 8400, loss = 19.01920509338379\n",
      "step = 8500, loss = 19.019195556640625\n",
      "step = 8600, loss = 19.019184112548828\n",
      "step = 8700, loss = 19.01917266845703\n",
      "step = 8800, loss = 19.019161224365234\n",
      "step = 8900, loss = 19.01915168762207\n",
      "step = 9000, loss = 19.01913833618164\n",
      "step = 9100, loss = 19.019126892089844\n",
      "step = 9200, loss = 19.01911163330078\n",
      "step = 9300, loss = 19.01909828186035\n",
      "step = 9400, loss = 19.01908302307129\n",
      "step = 9500, loss = 19.01906967163086\n",
      "step = 9600, loss = 19.019054412841797\n",
      "step = 9700, loss = 19.019039154052734\n",
      "step = 9800, loss = 19.01902198791504\n",
      "step = 9900, loss = 19.019006729125977\n",
      "train_accuracy=0.12399999797344208\n",
      "test_accuracy=0.09799999743700027\n"
     ]
    }
   ],
   "source": [
    "lossi = train(w1, b1, w2, b2)"
   ]
  },
  {
   "cell_type": "code",
   "execution_count": 27,
   "metadata": {},
   "outputs": [
    {
     "data": {
      "text/plain": [
       "[<matplotlib.lines.Line2D at 0x7fb63023ff70>]"
      ]
     },
     "execution_count": 27,
     "metadata": {},
     "output_type": "execute_result"
    },
    {
     "data": {
      "image/png": "[encoded data removed]",
      "text/plain": [
       "<Figure size 640x480 with 1 Axes>"
      ]
     },
     "metadata": {},
     "output_type": "display_data"
    }
   ],
   "source": [
    "plt.plot(lossi)"
   ]
  },
  {
   "cell_type": "markdown",
   "metadata": {},
   "source": [
    "### Step 2: Reference implementation using pytorch's .backward()\n",
    "Nothing to do in Step 2, this code is provided for you as a reference"
   ]
  },
  {
   "cell_type": "code",
   "execution_count": 28,
   "metadata": {},
   "outputs": [],
   "source": [
    "w1, b1, w2, b2 = init()\n",
    "parameters = [w1, b1, w2, b2]\n",
    "for p in parameters:\n",
    "    p.requires_grad_(True)"
   ]
  },
  {
   "cell_type": "code",
   "execution_count": 29,
   "metadata": {},
   "outputs": [],
   "source": [
    "# reference code\n",
    "torch.set_printoptions(linewidth=200)\n",
    "import torch.nn as F\n",
    "\n",
    "def train(w1, b1, w2, b2):\n",
    "    lossi = []\n",
    "    for step in range(10000):\n",
    "        xb = train_input\n",
    "        yb = train_target\n",
    "        num_samples = xb.shape[0]\n",
    "        # forward\n",
    "        z1, h1, z2, h2 = forward(w1, b1, w2, b2, xb)\n",
    "        xloss = F.MSELoss()\n",
    "        lsi = xloss(h2, yb) * yb.nelement()\n",
    "        # backward\n",
    "        for p in parameters:\n",
    "            p.grad = None\n",
    "        lsi.backward()\n",
    "        # update\n",
    "        lr = 0.1 / num_samples\n",
    "        for p in parameters:\n",
    "            p.data += -lr * p.grad\n",
    "        if step % 100 == 0: print(f'step = {step}, loss = {lsi}')\n",
    "        lossi.append(lsi.item())\n",
    "    # compute accuracy\n",
    "    _, _, _, preds = forward(w1, b1, w2, b2, train_input)\n",
    "    train_accuracy = compute_accuracy(preds, train_target)\n",
    "    _, _, _, preds = forward(w1, b1, w2, b2, test_input)\n",
    "    test_accuracy = compute_accuracy(preds, test_target)\n",
    "    print(f'{train_accuracy=}')\n",
    "    print(f'{test_accuracy=}')\n",
    "    return lossi"
   ]
  },
  {
   "cell_type": "code",
   "execution_count": 30,
   "metadata": {},
   "outputs": [
    {
     "name": "stdout",
     "output_type": "stream",
     "text": [
      "step = 0, loss = 9688.7314453125\n",
      "step = 100, loss = 8081.2158203125\n",
      "step = 200, loss = 7659.97900390625\n",
      "step = 300, loss = 7363.07666015625\n",
      "step = 400, loss = 7128.52294921875\n",
      "step = 500, loss = 6945.9833984375\n",
      "step = 600, loss = 6739.36767578125\n",
      "step = 700, loss = 6501.99755859375\n",
      "step = 800, loss = 6054.1748046875\n",
      "step = 900, loss = 5933.42529296875\n",
      "step = 1000, loss = 5727.693359375\n",
      "step = 1100, loss = 5324.39453125\n",
      "step = 1200, loss = 5201.4736328125\n",
      "step = 1300, loss = 4857.421875\n",
      "step = 1400, loss = 4587.25\n",
      "step = 1500, loss = 4433.1171875\n",
      "step = 1600, loss = 4352.0341796875\n",
      "step = 1700, loss = 4229.9267578125\n",
      "step = 1800, loss = 3970.349365234375\n",
      "step = 1900, loss = 3771.70263671875\n",
      "step = 2000, loss = 3682.06689453125\n",
      "step = 2100, loss = 3569.414794921875\n",
      "step = 2200, loss = 3367.677001953125\n",
      "step = 2300, loss = 3140.63330078125\n",
      "step = 2400, loss = 3061.024658203125\n",
      "step = 2500, loss = 2966.000244140625\n",
      "step = 2600, loss = 2836.466552734375\n",
      "step = 2700, loss = 2613.8349609375\n",
      "step = 2800, loss = 2100.2998046875\n",
      "step = 2900, loss = 2032.8404541015625\n",
      "step = 3000, loss = 1938.079345703125\n",
      "step = 3100, loss = 1849.05712890625\n",
      "step = 3200, loss = 1761.492431640625\n",
      "step = 3300, loss = 1664.6181640625\n",
      "step = 3400, loss = 1566.6748046875\n",
      "step = 3500, loss = 1458.5361328125\n",
      "step = 3600, loss = 1208.6114501953125\n",
      "step = 3700, loss = 1022.2073364257812\n",
      "step = 3800, loss = 956.7059326171875\n",
      "step = 3900, loss = 884.3306274414062\n",
      "step = 4000, loss = 766.1898193359375\n",
      "step = 4100, loss = 517.1793212890625\n",
      "step = 4200, loss = 463.0394287109375\n",
      "step = 4300, loss = 445.9458923339844\n",
      "step = 4400, loss = 437.5187072753906\n",
      "step = 4500, loss = 432.20843505859375\n",
      "step = 4600, loss = 426.7678527832031\n",
      "step = 4700, loss = 421.21044921875\n",
      "step = 4800, loss = 416.70819091796875\n",
      "step = 4900, loss = 413.31707763671875\n",
      "step = 5000, loss = 410.3262634277344\n",
      "step = 5100, loss = 407.24237060546875\n",
      "step = 5200, loss = 404.2326354980469\n",
      "step = 5300, loss = 401.84271240234375\n",
      "step = 5400, loss = 400.10833740234375\n",
      "step = 5500, loss = 398.65301513671875\n",
      "step = 5600, loss = 397.2428894042969\n",
      "step = 5700, loss = 395.4215393066406\n",
      "step = 5800, loss = 393.1811218261719\n",
      "step = 5900, loss = 390.6314697265625\n",
      "step = 6000, loss = 387.3067626953125\n",
      "step = 6100, loss = 384.9447937011719\n",
      "step = 6200, loss = 383.3662109375\n",
      "step = 6300, loss = 381.9787902832031\n",
      "step = 6400, loss = 380.35943603515625\n",
      "step = 6500, loss = 378.911376953125\n",
      "step = 6600, loss = 377.70343017578125\n",
      "step = 6700, loss = 376.4911804199219\n",
      "step = 6800, loss = 375.2168884277344\n",
      "step = 6900, loss = 373.88763427734375\n",
      "step = 7000, loss = 372.70501708984375\n",
      "step = 7100, loss = 371.6690979003906\n",
      "step = 7200, loss = 370.7222900390625\n",
      "step = 7300, loss = 369.7820739746094\n",
      "step = 7400, loss = 368.7923278808594\n",
      "step = 7500, loss = 367.9155578613281\n",
      "step = 7600, loss = 367.11383056640625\n",
      "step = 7700, loss = 366.3200988769531\n",
      "step = 7800, loss = 365.4836730957031\n",
      "step = 7900, loss = 364.6641845703125\n",
      "step = 8000, loss = 363.91802978515625\n",
      "step = 8100, loss = 363.30377197265625\n",
      "step = 8200, loss = 362.83685302734375\n",
      "step = 8300, loss = 362.4276428222656\n",
      "step = 8400, loss = 361.9638366699219\n",
      "step = 8500, loss = 361.3799743652344\n",
      "step = 8600, loss = 360.7023620605469\n",
      "step = 8700, loss = 359.84893798828125\n",
      "step = 8800, loss = 358.9788513183594\n",
      "step = 8900, loss = 358.1663513183594\n",
      "step = 9000, loss = 357.2345275878906\n",
      "step = 9100, loss = 356.3651123046875\n",
      "step = 9200, loss = 355.70037841796875\n",
      "step = 9300, loss = 355.1726379394531\n",
      "step = 9400, loss = 354.6253356933594\n",
      "step = 9500, loss = 354.0486145019531\n",
      "step = 9600, loss = 353.4962158203125\n",
      "step = 9700, loss = 353.0007629394531\n",
      "step = 9800, loss = 352.5473327636719\n",
      "step = 9900, loss = 352.08843994140625\n",
      "train_accuracy=0.8489999771118164\n",
      "test_accuracy=0.6100000143051147\n"
     ]
    }
   ],
   "source": [
    "lossi = train(w1, b1, w2, b2)"
   ]
  },
  {
   "cell_type": "code",
   "execution_count": 31,
   "metadata": {},
   "outputs": [
    {
     "data": {
      "text/plain": [
       "[<matplotlib.lines.Line2D at 0x7fb6302a0130>]"
      ]
     },
     "execution_count": 31,
     "metadata": {},
     "output_type": "execute_result"
    },
    {
     "data": {
      "image/png": "[encoded data removed]",
      "text/plain": [
       "<Figure size 640x480 with 1 Axes>"
      ]
     },
     "metadata": {},
     "output_type": "display_data"
    }
   ],
   "source": [
    "plt.plot(lossi)"
   ]
  },
  {
   "cell_type": "markdown",
   "metadata": {},
   "source": [
    "### Step 3: Build the same MLP layer but with fully pytorch code (nn.Linear(), etc.)"
   ]
  },
  {
   "cell_type": "code",
   "execution_count": 32,
   "metadata": {},
   "outputs": [],
   "source": [
    "# network dimensions\n",
    "n_in = 784\n",
    "n_hidden = 200\n",
    "n_out = 10"
   ]
  },
  {
   "cell_type": "code",
   "execution_count": 33,
   "metadata": {},
   "outputs": [],
   "source": [
    "X_tr, Y_tr = train_input, train_target\n",
    "X_test, Y_test = test_input, test_target"
   ]
  },
  {
   "cell_type": "code",
   "execution_count": 34,
   "metadata": {},
   "outputs": [],
   "source": [
    "class MLP(nn.Module):\n",
    "\n",
    "    def __init__(self):\n",
    "        super().__init__()\n",
    "        self.layers = nn.ModuleList((\n",
    "            nn.Linear(n_in, n_hidden), \n",
    "            nn.Tanh(), \n",
    "            nn.Linear(n_hidden, n_out),\n",
    "            nn.Tanh() \n",
    "        ))\n",
    "\n",
    "    def __call__(self, x):\n",
    "        for layer in self.layers:\n",
    "            x = layer(x)\n",
    "        return x\n",
    "    \n",
    "    def __parameters__(self):\n",
    "        return [p for layer in self.layers for p in layer.parameters]\n",
    "\n",
    "model = MLP()\n",
    "optimizer = torch.optim.AdamW(model.parameters(), lr=1e-3)\n",
    "loss_fn = nn.MSELoss()"
   ]
  },
  {
   "cell_type": "code",
   "execution_count": 35,
   "metadata": {},
   "outputs": [
    {
     "name": "stdout",
     "output_type": "stream",
     "text": [
      "step =      0\tloss=0.11861\taccuracy (train, test): 0.14400\t0.29200\n",
      "step =   1000\tloss=0.00028\taccuracy (train, test): 1.00000\t0.87400\n",
      "step =   2000\tloss=0.00006\taccuracy (train, test): 1.00000\t0.87500\n",
      "step =   3000\tloss=0.00008\taccuracy (train, test): 1.00000\t0.87700\n",
      "step =   4000\tloss=0.00001\taccuracy (train, test): 1.00000\t0.87600\n",
      "step =   5000\tloss=0.00005\taccuracy (train, test): 1.00000\t0.87600\n",
      "step =   6000\tloss=0.00022\taccuracy (train, test): 1.00000\t0.87500\n",
      "step =   7000\tloss=0.00002\taccuracy (train, test): 1.00000\t0.87900\n",
      "step =   8000\tloss=0.00006\taccuracy (train, test): 1.00000\t0.87900\n",
      "step =   9000\tloss=0.00002\taccuracy (train, test): 1.00000\t0.87700\n"
     ]
    }
   ],
   "source": [
    "# training\n",
    "num_epochs = 10000\n",
    "\n",
    "for n in range(num_epochs):\n",
    "    y_pred = model(X_tr)\n",
    "    loss = loss_fn(y_pred, Y_tr)\n",
    "    optimizer.zero_grad()\n",
    "    loss.backward()\n",
    "    optimizer.step()\n",
    "    if n % 1000 == 0: \n",
    "        with torch.no_grad():\n",
    "            # train accuracy\n",
    "            acc_train = compute_accuracy(y_pred, Y_tr)\n",
    "            # test accuracy\n",
    "            y_test_preds = model(X_test)\n",
    "            acc_test = compute_accuracy(y_test_preds, Y_test)\n",
    "            print(f'step = {n:6d}\\tloss={loss.item():.5f}\\taccuracy (train, test): {acc_train:.5f}\\t{acc_test:.5f}')"
   ]
  },
  {
   "cell_type": "markdown",
   "metadata": {},
   "source": [
    "##### Exercise: try to improve accuracy!"
   ]
  },
  {
   "cell_type": "code",
   "execution_count": 36,
   "metadata": {},
   "outputs": [],
   "source": [
    "class MLP2(nn.Module):\n",
    "\n",
    "    def __init__(self):\n",
    "        super().__init__()\n",
    "        self.layers = nn.ModuleList((\n",
    "            nn.Linear(n_in, n_hidden), \n",
    "            nn.Tanh(), \n",
    "            nn.Linear(n_hidden, n_out),\n",
    "            nn.Tanh() \n",
    "        ))\n",
    "\n",
    "    def __call__(self, x):\n",
    "        for layer in self.layers:\n",
    "            x = layer(x)\n",
    "        return x\n",
    "    \n",
    "    def __parameters__(self):\n",
    "        return [p for layer in self.layers for p in layer.parameters]\n",
    "\n",
    "model = MLP2()\n",
    "optimizer = torch.optim.AdamW(model.parameters(), lr=1e-3)\n",
    "loss_fn = nn.MSELoss()"
   ]
  },
  {
   "cell_type": "code",
   "execution_count": 37,
   "metadata": {},
   "outputs": [
    {
     "name": "stdout",
     "output_type": "stream",
     "text": [
      "step =      0\tloss=0.14064\taccuracy (train, test): 0.09100\t0.11600\n",
      "step =   1000\tloss=0.00023\taccuracy (train, test): 1.00000\t0.88200\n",
      "step =   2000\tloss=0.00128\taccuracy (train, test): 1.00000\t0.88500\n",
      "step =   3000\tloss=0.00001\taccuracy (train, test): 1.00000\t0.88700\n",
      "step =   4000\tloss=0.00001\taccuracy (train, test): 1.00000\t0.88800\n",
      "step =   5000\tloss=0.00004\taccuracy (train, test): 1.00000\t0.88500\n",
      "step =   6000\tloss=0.00012\taccuracy (train, test): 1.00000\t0.89000\n",
      "step =   7000\tloss=0.00001\taccuracy (train, test): 1.00000\t0.88400\n",
      "step =   8000\tloss=0.00003\taccuracy (train, test): 1.00000\t0.88500\n",
      "step =   9000\tloss=0.00001\taccuracy (train, test): 1.00000\t0.88300\n"
     ]
    }
   ],
   "source": [
    "# training\n",
    "num_epochs = 10000\n",
    "\n",
    "for n in range(num_epochs):\n",
    "    y_pred = model(X_tr)\n",
    "    loss = loss_fn(y_pred, Y_tr)\n",
    "    optimizer.zero_grad()\n",
    "    loss.backward()\n",
    "    optimizer.step()\n",
    "    if n % 1000 == 0: \n",
    "        with torch.no_grad():\n",
    "            # train accuracy\n",
    "            acc_train = compute_accuracy(y_pred, Y_tr)\n",
    "            # test accuracy\n",
    "            y_test_preds = model(X_test)\n",
    "            acc_test = compute_accuracy(y_test_preds, Y_test)\n",
    "            print(f'step = {n:6d}\\tloss={loss.item():.5f}\\taccuracy (train, test): {acc_train:.5f}\\t{acc_test:.5f}')"
   ]
  },
  {
   "cell_type": "code",
   "execution_count": 38,
   "metadata": {},
   "outputs": [],
   "source": [
    "\n",
    "class MLP_with_Dropout(nn.Module):\n",
    "\n",
    "    def __init__(self):\n",
    "        super().__init__()\n",
    "        self.layers = nn.ModuleList((\n",
    "            nn.Linear(784, 50),\n",
    "            nn.Tanh(),\n",
    "            nn.Dropout(p=0.1), \n",
    "            nn.Linear(50, 10),\n",
    "            nn.Tanh()\n",
    "        ))\n",
    "\n",
    "    def __call__(self, x):\n",
    "        for layer in self.layers:\n",
    "            x = layer(x)\n",
    "        return x\n",
    "    \n",
    "    def __parameters__(self):\n",
    "        return [p for layer in self.layers for p in layer.parameters]\n",
    "\n",
    "model_with_dropout = MLP_with_Dropout()\n",
    "model = MLP()\n",
    "optimizer = torch.optim.AdamW(model.parameters(), lr=1e-5)\n",
    "scheduler = torch.optim.lr_scheduler.StepLR(optimizer, step_size=1000, gamma=0.5)\n",
    "loss_fn = nn.MSELoss()"
   ]
  },
  {
   "cell_type": "code",
   "execution_count": 39,
   "metadata": {},
   "outputs": [
    {
     "name": "stdout",
     "output_type": "stream",
     "text": [
      "step =      0\tloss=0.12555\taccuracy (train, test): 0.11500\t0.12300\n",
      "step =   1000\tloss=0.02307\taccuracy (train, test): 0.94500\t0.79000\n",
      "step =   2000\tloss=0.01677\taccuracy (train, test): 0.97600\t0.81900\n",
      "step =   3000\tloss=0.01388\taccuracy (train, test): 0.98300\t0.83600\n",
      "step =   4000\tloss=0.01236\taccuracy (train, test): 0.98800\t0.84400\n",
      "step =   5000\tloss=0.01153\taccuracy (train, test): 0.98900\t0.84300\n",
      "step =   6000\tloss=0.01108\taccuracy (train, test): 0.99300\t0.84400\n",
      "step =   7000\tloss=0.01083\taccuracy (train, test): 0.99400\t0.84500\n",
      "step =   8000\tloss=0.01070\taccuracy (train, test): 0.99400\t0.84600\n",
      "step =   9000\tloss=0.01063\taccuracy (train, test): 0.99400\t0.84700\n"
     ]
    }
   ],
   "source": [
    "# training\n",
    "num_epochs = 10000\n",
    "\n",
    "for n in range(num_epochs):\n",
    "    y_pred = model(X_tr)\n",
    "    loss = loss_fn(y_pred, Y_tr)\n",
    "    optimizer.zero_grad()\n",
    "    loss.backward()\n",
    "    optimizer.step()\n",
    "    scheduler.step()\n",
    "    if n % 1000 == 0: \n",
    "        with torch.no_grad():\n",
    "            # train accuracy\n",
    "            acc_train = compute_accuracy(y_pred, Y_tr)\n",
    "            # test accuracy\n",
    "            y_test_preds = model(X_test)\n",
    "            acc_test = compute_accuracy(y_test_preds, Y_test)\n",
    "            print(f'step = {n:6d}\\tloss={loss.item():.5f}\\taccuracy (train, test): {acc_train:.5f}\\t{acc_test:.5f}')"
   ]
  }
 ],
 "metadata": {
  "kernelspec": {
   "display_name": "Python (nail_env)",
   "language": "python",
   "name": "nail_env"
  },
  "language_info": {
   "codemirror_mode": {
    "name": "ipython",
    "version": 3
   },
   "file_extension": ".py",
   "mimetype": "text/x-python",
   "name": "python",
   "nbconvert_exporter": "python",
   "pygments_lexer": "ipython3",
   "version": "3.9.10"
  }
 },
 "nbformat": 4,
 "nbformat_minor": 2
}
