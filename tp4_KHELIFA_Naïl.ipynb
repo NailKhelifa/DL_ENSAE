{
 "cells": [
  {
   "cell_type": "code",
   "execution_count": 1,
   "metadata": {},
   "outputs": [],
   "source": [
    "# 1. Self-attention by hand\n",
    "# 2. Self-attention block in pytorch\n",
    "# 3. GPT, piece-by-piece\n",
    "# 4. GPU goes rrrr!\n",
    "\n",
    "# Original code from https://github.com/karpathy/minGPT/tree/master/mingpt"
   ]
  },
  {
   "cell_type": "markdown",
   "metadata": {},
   "source": [
    "### Step 1: Self-attention by hand"
   ]
  },
  {
   "cell_type": "code",
   "execution_count": 2,
   "metadata": {},
   "outputs": [],
   "source": [
    "import torch\n",
    "import math\n",
    "import torch.nn.functional as F"
   ]
  },
  {
   "cell_type": "code",
   "execution_count": 3,
   "metadata": {},
   "outputs": [],
   "source": [
    "#  -- Write the scaled dot product self attention\n",
    "  # 1. Compute queries, keys, and values\n",
    "  # 2. Compute dot products\n",
    "  # 3. Scale the dot products\n",
    "  # 4. Apply softmax to calculate attentions\n",
    "  # 5. Weight values by attentions\n",
    "  # 6. Compute attention weighted features"
   ]
  },
  {
   "cell_type": "code",
   "execution_count": 4,
   "metadata": {},
   "outputs": [],
   "source": [
    "# Choose random values for the parameters -- sames values as on slide 12, but in pytorch format\n",
    "# T = 4, C = 6, H = 3\n",
    "X = torch.tensor([[2,0,0,0,2,1],[0,1,2,0,0,0],[0,0,1,1,0,1],[2,0,0,1,0,1]], dtype=float) # T x C\n",
    "W_QT = torch.tensor([[1,0,0], [1,1,0], [0,0,1], [0,1,0], [0,0,1], [0,0,1]], dtype=float) # C x H\n",
    "W_KT = torch.tensor([[0,0,1], [0,1,0], [1,0,0], [0,0,0], [0,0,0], [0,0,-1]], dtype=float) # C x H\n",
    "W_VT = torch.tensor([[10,0,0], [0,0,10], [0,0,0], [0,10,0], [0,0,0], [0,0,0]], dtype=float) # C x H\n",
    "\n",
    "# 1. Compute queries, keys, and values\n",
    "Q = torch.matmul(X, W_QT)\n",
    "K = torch.matmul(X, W_KT)\n",
    "V = torch.matmul(X, W_VT)\n",
    "# 2. Compute dot products\n",
    "QKT = torch.matmul(Q, K.T)\n",
    "# 3. Scale the dot products\n",
    "d_k = Q.shape[1]\n",
    "QKT /= math.sqrt(d_k)"
   ]
  },
  {
   "cell_type": "code",
   "execution_count": 5,
   "metadata": {},
   "outputs": [],
   "source": [
    "# What does the second dimension of matrices Q and K correspond to?"
   ]
  },
  {
   "cell_type": "markdown",
   "metadata": {},
   "source": [
    "**Answer**: The second dimension of matrices Q and K corresponds to the number of input vectors (block size)."
   ]
  },
  {
   "cell_type": "code",
   "execution_count": 6,
   "metadata": {},
   "outputs": [],
   "source": [
    "# compute the weighted attention matrix S\n",
    "S = F.softmax(QKT, dim=1)"
   ]
  },
  {
   "cell_type": "code",
   "execution_count": 7,
   "metadata": {},
   "outputs": [],
   "source": [
    "# compute the self-attention matrix A\n",
    "A = torch.matmul(S, V)"
   ]
  },
  {
   "cell_type": "code",
   "execution_count": 8,
   "metadata": {},
   "outputs": [
    {
     "data": {
      "text/plain": [
       "True"
      ]
     },
     "execution_count": 8,
     "metadata": {},
     "output_type": "execute_result"
    }
   ],
   "source": [
    "# Sanity check. This should return True.\n",
    "torch.allclose(A.float(), torch.tensor([[10.30759701,  2.83283874,  4.59026201],\n",
    "        [10.10551833,  2.97334971,  4.50027071],\n",
    "        [15.03361159,  4.13169018,  2.10990693],\n",
    "        [ 3.06082018,  1.53041009,  7.70438486]]))"
   ]
  },
  {
   "cell_type": "markdown",
   "metadata": {},
   "source": [
    "### Step 2: Self-attention block in pytorch"
   ]
  },
  {
   "cell_type": "code",
   "execution_count": 63,
   "metadata": {},
   "outputs": [],
   "source": [
    "import torch\n",
    "import torch.nn as nn\n",
    "from torch.functional import F"
   ]
  },
  {
   "cell_type": "code",
   "execution_count": 64,
   "metadata": {},
   "outputs": [],
   "source": [
    "# do not modify this code\n",
    "\n",
    "batch_size = 3 # B\n",
    "block_size = 2 # T\n",
    "n_embd = 3     # C"
   ]
  },
  {
   "cell_type": "code",
   "execution_count": 65,
   "metadata": {},
   "outputs": [],
   "source": [
    "torch.set_printoptions(precision=8)"
   ]
  },
  {
   "cell_type": "code",
   "execution_count": 66,
   "metadata": {},
   "outputs": [],
   "source": [
    "# Build a scaled self-attention head without masked attention and without dropout (i.e. just key, query and values)\n",
    "# A matrix multiplication is implemented using the nn.Linear() operator with no bias.\n",
    "class Head(nn.Module):\n",
    "\n",
    "    def __init__(self, head_size):\n",
    "        super().__init__()\n",
    "        self.key = nn.Linear(n_embd, head_size, bias=False)\n",
    "        self.query = nn.Linear(n_embd, head_size, bias=False)\n",
    "        self.value = nn.Linear(n_embd, head_size, bias=False)\n",
    "\n",
    "    def forward (self, x):\n",
    "        B, T, C = x.shape\n",
    "        \n",
    "        Q = self.query(x)  \n",
    "        K = self.key(x)   \n",
    "        V = self.value(x) \n",
    "\n",
    "        QKT = torch.matmul(Q, K.transpose(-2, -1))\n",
    "        d_k = Q.shape[-1]\n",
    "        QKT /= math.sqrt(d_k)\n",
    "        S = F.softmax(QKT, dim=-1)  \n",
    "\n",
    "        out = torch.matmul(S, V)  \n",
    "\n",
    "        return out"
   ]
  },
  {
   "cell_type": "code",
   "execution_count": 67,
   "metadata": {},
   "outputs": [
    {
     "data": {
      "text/plain": [
       "tensor([[[-0.46728206,  0.03477209],\n",
       "         [-0.47425330,  0.05069543]],\n",
       "\n",
       "        [[-0.38198256,  0.02403206],\n",
       "         [-0.39846635,  0.02506738]],\n",
       "\n",
       "        [[-0.29631630,  0.12201241],\n",
       "         [-0.30199534,  0.12650710]]], grad_fn=<UnsafeViewBackward0>)"
      ]
     },
     "execution_count": 67,
     "metadata": {},
     "output_type": "execute_result"
    }
   ],
   "source": [
    "# Unit test. Do not modify this code\n",
    "torch.manual_seed(123) # do not remove this line\n",
    "h = Head(2)\n",
    "torch.manual_seed(123) # do not remove this line\n",
    "x = torch.rand((batch_size, block_size, n_embd))\n",
    "out = h(x)\n",
    "out"
   ]
  },
  {
   "cell_type": "code",
   "execution_count": 68,
   "metadata": {},
   "outputs": [
    {
     "data": {
      "text/plain": [
       "True"
      ]
     },
     "execution_count": 68,
     "metadata": {},
     "output_type": "execute_result"
    }
   ],
   "source": [
    "# Sanity check. This should return True.\n",
    "torch.allclose(out, torch.tensor([[[-0.46728206,  0.03477207],\n",
    "         [-0.47425330,  0.05069541]],\n",
    "        [[-0.38198256,  0.02403205],\n",
    "         [-0.39846635,  0.02506737]],\n",
    "        [[-0.29631630,  0.12201238],\n",
    "         [-0.30199534,  0.12650707]]]))"
   ]
  },
  {
   "cell_type": "code",
   "execution_count": 69,
   "metadata": {},
   "outputs": [],
   "source": [
    "# Add weighted masked attention and dropout. Dropout comes after the softmax and before the multiplication with the value matrix.\n",
    "# Copy the Head class from the previous exercise and expand upon it.\n",
    "\n",
    "class Head(nn.Module):\n",
    "\n",
    "    def __init__(self, head_size):\n",
    "        super().__init__()\n",
    "        self.key = nn.Linear(n_embd, head_size, bias=False)\n",
    "        self.query = nn.Linear(n_embd, head_size, bias=False)\n",
    "        self.value = nn.Linear(n_embd, head_size, bias=False)\n",
    "        \n",
    "        # couche de dropout\n",
    "        #self.dropout = nn.Dropout(0.1)\n",
    "        self.register_buffer('tril', torch.tril(torch.ones(block_size, block_size))) # store a persistent buffer for the forward pass\n",
    "\n",
    "    def forward (self, x):\n",
    "        B, T, C = x.shape\n",
    "    \n",
    "        Q = self.query(x)  \n",
    "        K = self.key(x)    \n",
    "        V = self.value(x)  \n",
    "\n",
    "        QKT = torch.matmul(Q, K.transpose(-2, -1))  \n",
    "        d_k = Q.shape[-1]\n",
    "        QKT /= math.sqrt(d_k)\n",
    "\n",
    "        QKT = QKT.masked_fill(self.tril == 0, float('-inf'))\n",
    "\n",
    "        S = F.softmax(QKT, dim=-1) \n",
    "        #S = self.dropout(S)\n",
    "        out = torch.matmul(S, V)  \n",
    "\n",
    "        return out"
   ]
  },
  {
   "cell_type": "code",
   "execution_count": 70,
   "metadata": {},
   "outputs": [
    {
     "data": {
      "text/plain": [
       "tensor([[[-0.37939817, -0.16596892],\n",
       "         [-0.47425330,  0.05069543]],\n",
       "\n",
       "        [[-0.14184165,  0.00894912],\n",
       "         [-0.39846635,  0.02506738]],\n",
       "\n",
       "        [[-0.17301908,  0.02442870],\n",
       "         [-0.30199534,  0.12650710]]], grad_fn=<UnsafeViewBackward0>)"
      ]
     },
     "execution_count": 70,
     "metadata": {},
     "output_type": "execute_result"
    }
   ],
   "source": [
    "# Unit test. Do not modify this code\n",
    "torch.manual_seed(123) # do not remove this line\n",
    "h = Head(2)\n",
    "torch.manual_seed(123) # do not remove this line\n",
    "x = torch.rand((batch_size, block_size, n_embd))\n",
    "out = h(x)\n",
    "out"
   ]
  },
  {
   "cell_type": "code",
   "execution_count": 71,
   "metadata": {},
   "outputs": [
    {
     "data": {
      "text/plain": [
       "True"
      ]
     },
     "execution_count": 71,
     "metadata": {},
     "output_type": "execute_result"
    }
   ],
   "source": [
    "# Sanity check. This should return True.\n",
    "torch.allclose(out, torch.tensor([[[-0.37939820, -0.16596894],\n",
    "         [-0.47425330,  0.05069541]],\n",
    "        [[-0.14184165,  0.00894911],\n",
    "         [-0.39846635,  0.02506737]],\n",
    "        [[-0.17301908,  0.02442869],\n",
    "         [-0.30199534,  0.12650707]]]))\n"
   ]
  },
  {
   "cell_type": "code",
   "execution_count": 73,
   "metadata": {},
   "outputs": [],
   "source": [
    "# A multi-head attention module contains a list of heads and a linear projection layer.\n",
    "# The heads are applied to the input and then concatenated along the last dimension, then\n",
    "# the linear layer is applied. Look at the unit test below to determine the dimensions of\n",
    "# the linear layer.\n",
    "\n",
    "class MultiHeadAttention(nn.Module):\n",
    "    def __init__(self, num_heads, head_size):\n",
    "        super().__init__()\n",
    "        self.heads = nn.ModuleList([Head(head_size) for _ in range(num_heads)])\n",
    "\n",
    "    def forward (self, x):\n",
    "        out = torch.cat([head(x) for head in self.heads], dim=-1)  \n",
    "        \n",
    "        return out"
   ]
  },
  {
   "cell_type": "code",
   "execution_count": 74,
   "metadata": {},
   "outputs": [],
   "source": [
    "# do not modify\n",
    "num_heads = 3\n",
    "head_size = 2\n",
    "n_embd = 6"
   ]
  },
  {
   "cell_type": "code",
   "execution_count": 75,
   "metadata": {},
   "outputs": [],
   "source": [
    "# Unit test. Do not modify this code\n",
    "torch.manual_seed(123) # do not remove this line\n",
    "sa = MultiHeadAttention(num_heads=3, head_size=head_size)\n",
    "torch.manual_seed(123) # do not remove this line\n",
    "x = torch.rand((batch_size, block_size, n_embd))\n",
    "out = sa(x)"
   ]
  },
  {
   "cell_type": "code",
   "execution_count": 76,
   "metadata": {},
   "outputs": [
    {
     "data": {
      "text/plain": [
       "False"
      ]
     },
     "execution_count": 76,
     "metadata": {},
     "output_type": "execute_result"
    }
   ],
   "source": [
    "# Sanity check. This should return True.\n",
    "torch.allclose(out, torch.tensor([[[-0.03730504, -0.07006130, -0.27096999,  0.13144857, -0.45049590,\n",
    "          -0.33217290],\n",
    "         [-0.06818272, -0.04490501, -0.34806073,  0.15622401, -0.45459983,\n",
    "          -0.33084857]],\n",
    "        [[-0.08914752, -0.03846309, -0.36569631,  0.09802882, -0.39963537,\n",
    "          -0.29225215],\n",
    "         [-0.04541985,  0.01269679, -0.25225419,  0.08241771, -0.41533324,\n",
    "          -0.30674040]],\n",
    "        [[ 0.15234883, -0.08591781, -0.10099770,  0.19886394, -0.49236685,\n",
    "          -0.43605998],\n",
    "         [ 0.15418015, -0.01837257, -0.00573672,  0.14228639, -0.48172480,\n",
    "          -0.40757987]]]))\n"
   ]
  },
  {
   "cell_type": "code",
   "execution_count": 23,
   "metadata": {},
   "outputs": [],
   "source": [
    "# Add a classical feedforward module: linear -> ReLU -> linear\n",
    "# The hidden dimension is four times bigger than the input dimension (see Section 3.3 of Attention is All You Need)\n",
    "#\n",
    "class FeedForward(nn.Module):\n",
    "    \"\"\" a simple linear layer followed by a non-linearity \"\"\"\n",
    "    def __init__(self, n_embd):\n",
    "        super().__init__()\n",
    "        self.linear1 = nn.Linear(n_embd, 4 * n_embd)\n",
    "        self.relu = nn.ReLU()\n",
    "        self.linear2 = nn.Linear(4 * n_embd, n_embd)\n",
    "\n",
    "    def forward(self, x):\n",
    "        out = self.linear1(x)\n",
    "        out = self.relu(out)\n",
    "        out = self.linear2(out)\n",
    "        return out"
   ]
  },
  {
   "cell_type": "code",
   "execution_count": 24,
   "metadata": {},
   "outputs": [
    {
     "data": {
      "text/plain": [
       "tensor([[-0.58034140,  0.04641046, -0.10707693,  0.21581650, -0.30361831,\n",
       "         -0.07352637],\n",
       "        [-0.48917404,  0.07879593, -0.15972012,  0.17862341, -0.37070656,\n",
       "         -0.07852859],\n",
       "        [-0.48530388,  0.09604472, -0.06524836,  0.16611031, -0.35499069,\n",
       "         -0.08964308]], grad_fn=<AddmmBackward0>)"
      ]
     },
     "execution_count": 24,
     "metadata": {},
     "output_type": "execute_result"
    }
   ],
   "source": [
    "# Unit test. Do not modify this code\n",
    "torch.manual_seed(123) # do not remove this line\n",
    "ff = FeedForward(n_embd)\n",
    "torch.manual_seed(123) # do not remove this line\n",
    "x = torch.rand((3,n_embd))\n",
    "out = ff(x)\n",
    "out"
   ]
  },
  {
   "cell_type": "code",
   "execution_count": 25,
   "metadata": {},
   "outputs": [
    {
     "data": {
      "text/plain": [
       "True"
      ]
     },
     "execution_count": 25,
     "metadata": {},
     "output_type": "execute_result"
    }
   ],
   "source": [
    "# Sanity check. This should return True.\n",
    "torch.allclose(out, torch.tensor([[-0.58034140,  0.04641046, -0.10707694,  0.21581653, -0.30361831,\n",
    "         -0.07352637],\n",
    "        [-0.48917407,  0.07879593, -0.15972012,  0.17862344, -0.37070659,\n",
    "         -0.07852858],\n",
    "        [-0.48530388,  0.09604470, -0.06524836,  0.16611034, -0.35499069,\n",
    "         -0.08964306]]))"
   ]
  },
  {
   "cell_type": "code",
   "execution_count": 26,
   "metadata": {},
   "outputs": [],
   "source": [
    "# Build a self-attention block\n",
    "#\n",
    "#   in -----> LayerNorm -------> multi-head attention -- + ----> LayerNorm -----> FeedForward --- + -----> out\n",
    "#         |                                              |   |                                    |\n",
    "#          ----------------------------------------------     ------------------------------------                       \n",
    "#\n",
    "# This architecture is slightly different from Attention is All You Need (or the UDL textbook):\n",
    "# the layer norm comes before (not after) the attention or feed-forward\n",
    "#\n",
    "class Block(nn.Module):\n",
    "\n",
    "    def __init__(self, n_embd, n_head):\n",
    "        super().__init__()\n",
    "        head_size = n_embd // n_head\n",
    "        self.norm1 = nn.LayerNorm(n_embd)\n",
    "        self.norm2 = nn.LayerNorm(n_embd)\n",
    "        self.attn = MultiHeadAttention(n_head, head_size)\n",
    "        self.ff = FeedForward(n_embd)\n",
    "\n",
    "    def forward(self, x):\n",
    "        out = self.norm1(x)\n",
    "        out = self.attn(out)\n",
    "        out = out + x\n",
    "        out = self.norm2(out)\n",
    "        out = self.ff(out)\n",
    "        out = out + x\n",
    "        return out"
   ]
  },
  {
   "cell_type": "code",
   "execution_count": 27,
   "metadata": {},
   "outputs": [
    {
     "data": {
      "text/plain": [
       "tensor([[[0.55253643, 0.92662269, 0.14265609, 0.49135739, 0.44488859,\n",
       "          0.40691286],\n",
       "         [0.37060875, 0.53596079, 0.07363464, 0.50188190, 0.74524832,\n",
       "          0.24173239]],\n",
       "\n",
       "        [[0.33136606, 0.58603227, 0.19803919, 0.23582187, 0.55994624,\n",
       "          0.30247170],\n",
       "         [0.66611242, 1.00561023, 0.77635646, 0.41822350, 1.05300403,\n",
       "          0.47236234]],\n",
       "\n",
       "        [[0.05448157, 0.88543195, 0.24299029, 0.63907605, 1.21257377,\n",
       "          0.26945177],\n",
       "         [0.58008689, 0.91462666, 0.77791780, 0.65896595, 1.03971529,\n",
       "          0.55926645]]], grad_fn=<AddBackward0>)"
      ]
     },
     "execution_count": 27,
     "metadata": {},
     "output_type": "execute_result"
    }
   ],
   "source": [
    "# Unit test. Do not modify this code\n",
    "torch.manual_seed(123) # do not remove this line\n",
    "bk = Block(n_embd, num_heads)\n",
    "torch.manual_seed(123) # do not remove this line\n",
    "x = torch.rand((batch_size,block_size,n_embd))\n",
    "out = bk(x)\n",
    "out"
   ]
  },
  {
   "cell_type": "code",
   "execution_count": 28,
   "metadata": {},
   "outputs": [
    {
     "data": {
      "text/plain": [
       "False"
      ]
     },
     "execution_count": 28,
     "metadata": {},
     "output_type": "execute_result"
    }
   ],
   "source": [
    "# Sanity check. This should return True.\n",
    "torch.allclose(out, torch.tensor([[[-0.05278997, -0.10863629, -0.09458938,  0.97590691, -0.55101192,\n",
    "           0.57085067],\n",
    "         [-0.16924502, -0.45394337, -0.25217158,  1.10904062, -0.34593600,\n",
    "           0.41432184]],\n",
    "        [[-0.41515028, -0.30126408, -0.11399293,  0.64651299, -0.51579159,\n",
    "           0.57017863],\n",
    "         [-0.02535054,  0.08704096,  0.66524690,  0.69768047,  0.05969021,\n",
    "           0.69993609]],\n",
    "        [[ 0.52881187,  0.34458166,  0.31130391,  1.11564195,  0.37998506,\n",
    "          -0.02971917],\n",
    "         [ 1.38496208,  0.60325992,  0.99346304,  0.38082033,  0.62151432,\n",
    "           0.47973478]]]))"
   ]
  },
  {
   "cell_type": "code",
   "execution_count": null,
   "metadata": {},
   "outputs": [],
   "source": [
    "## Step 3: Build a mini GPT\n",
    "#\n",
    "# - Start from the gpt-problem.py file\n",
    "# - Add your Head, MultiHeadAttention, FeedForward and Block classes\n",
    "# - Fill in the GPT class (__init__ and forward methods)\n",
    "# - Train the network on CPU\n",
    "# - Train the network on GPU\n",
    "\n",
    "# For __init__, the GPT model parameters are:\n",
    "#   - a token embedding table\n",
    "#   - a positional embedding table\n",
    "#   - a sequence of Blocks\n",
    "#   - a layer norm\n",
    "#   - a linear layer\n",
    "#\n",
    "# For forward(), the model consists in:\n",
    "#   - applying the token embedding table and positional embedding table to the input tensor\n",
    "#   - adding the two together\n",
    "#   - applying the blocks, layer norm and linear layer (in that order)\n",
    "#\n",
    "# The code comes from hyperparameters that should work well on GPU.  On CPU, you \n",
    "# will need to reduce the model size significantly.\n",
    "#\n",
    "# In pytorch, an learnable embedding table is implemented with nn.Embedding(...)\n",
    "#\n",
    "# The token embedding table learns an embedding for each item of the vocabulary. The \n",
    "# positional embedding table does not depend on the input and learns an embedding\n",
    "# for each position in the context."
   ]
  }
 ],
 "metadata": {
  "kernelspec": {
   "display_name": "base",
   "language": "python",
   "name": "python3"
  },
  "language_info": {
   "codemirror_mode": {
    "name": "ipython",
    "version": 3
   },
   "file_extension": ".py",
   "mimetype": "text/x-python",
   "name": "python",
   "nbconvert_exporter": "python",
   "pygments_lexer": "ipython3",
   "version": "3.12.7"
  }
 },
 "nbformat": 4,
 "nbformat_minor": 2
}
