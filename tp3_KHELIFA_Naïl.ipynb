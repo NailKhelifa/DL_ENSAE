{
 "cells": [
  {
   "cell_type": "code",
   "execution_count": 1,
   "metadata": {},
   "outputs": [],
   "source": [
    "# MNIST with an MLP, from scratch\n",
    "\n",
    "# - Step 1: build an MLP from scratch to solve MNIST. Question set: https://fleuret.org/dlc/materials/dlc-practical-3.pdf\n",
    "# - Step 2: debug your network with backprop ninja and a reference implementation using torch's .backward()\n",
    "# - Step 3: build the same MLP but will full pytorch code (nn.Linear, etc.)"
   ]
  },
  {
   "cell_type": "code",
   "execution_count": 9,
   "metadata": {},
   "outputs": [],
   "source": [
    "import math\n",
    "import numpy as np\n",
    "import torch\n",
    "from torch import nn\n",
    "import matplotlib.pyplot as plt\n",
    "%matplotlib inline"
   ]
  },
  {
   "cell_type": "code",
   "execution_count": 3,
   "metadata": {},
   "outputs": [],
   "source": [
    "from utils import load_data"
   ]
  },
  {
   "cell_type": "code",
   "execution_count": 4,
   "metadata": {},
   "outputs": [
    {
     "name": "stdout",
     "output_type": "stream",
     "text": [
      "* Using MNIST\n",
      "** Reduce the data-set (use --full for the full thing)\n",
      "** Use 1000 train and 1000 test samples\n"
     ]
    }
   ],
   "source": [
    "train_input, train_target, test_input, test_target = load_data(one_hot_labels = True, normalize = True)"
   ]
  },
  {
   "cell_type": "code",
   "execution_count": 5,
   "metadata": {},
   "outputs": [
    {
     "data": {
      "text/plain": [
       "<matplotlib.image.AxesImage at 0x7fd2240d8b20>"
      ]
     },
     "execution_count": 5,
     "metadata": {},
     "output_type": "execute_result"
    },
    {
     "data": {
      "image/png": "[encoded data removed]",
      "text/plain": [
       "<Figure size 640x480 with 1 Axes>"
      ]
     },
     "metadata": {},
     "output_type": "display_data"
    }
   ],
   "source": [
    "plt.imshow(train_input[4].view((28,28)))"
   ]
  },
  {
   "cell_type": "code",
   "execution_count": 6,
   "metadata": {},
   "outputs": [],
   "source": [
    "def compute_accuracy (preds, targets):\n",
    "    \"\"\" Computes the accuracy between predictions and targets. Data is expected to be one-hot encoded. \"\"\"\n",
    "    _, idx1 = torch.max(preds, dim=1)\n",
    "    _, idx2 = torch.max(targets, dim=1)\n",
    "    d = idx1 == idx2\n",
    "    return d.int().float().mean().item()"
   ]
  },
  {
   "cell_type": "code",
   "execution_count": 7,
   "metadata": {},
   "outputs": [
    {
     "data": {
      "text/plain": [
       "0.75"
      ]
     },
     "execution_count": 7,
     "metadata": {},
     "output_type": "execute_result"
    }
   ],
   "source": [
    "# unit test\n",
    "# this cell should return 0.75\n",
    "preds = torch.zeros((4,7))\n",
    "preds[0,1] = 1\n",
    "preds[1,4] = 1\n",
    "preds[2,2] = 1\n",
    "preds[3,6] = 1\n",
    "targets = torch.zeros((4,7))\n",
    "targets[0,1] = 1\n",
    "targets[1,4] = 1\n",
    "targets[2,2] = 1\n",
    "targets[3,2] = 1\n",
    "compute_accuracy(preds, targets)"
   ]
  },
  {
   "cell_type": "code",
   "execution_count": 139,
   "metadata": {},
   "outputs": [],
   "source": [
    "def sigma(x):\n",
    "    return torch.tanh(x)\n",
    "\n",
    "def dsigma(x):\n",
    "    return 1 - torch.pow(sigma(x), 2)"
   ]
  },
  {
   "cell_type": "code",
   "execution_count": 140,
   "metadata": {},
   "outputs": [],
   "source": [
    "def loss (v,t):\n",
    "    \n",
    "    return torch.sum(torch.pow(v-t, 2))\n",
    "\n",
    "def dloss(v,t):\n",
    "    \n",
    "    return torch.mul(2, (v-t))"
   ]
  },
  {
   "cell_type": "code",
   "execution_count": 141,
   "metadata": {},
   "outputs": [
    {
     "data": {
      "text/plain": [
       "tensor([[ 0.2102,  0.2907,  0.1872, -6.0115,  0.8179, -2.8388],\n",
       "        [-2.1971,  4.3887,  0.9670, -4.3715, -0.3850,  2.7193],\n",
       "        [ 2.9719,  5.1147,  4.4324, -1.3431, -0.8215,  1.8636]])"
      ]
     },
     "execution_count": 141,
     "metadata": {},
     "output_type": "execute_result"
    }
   ],
   "source": [
    "# sanity check\n",
    "v = torch.randn((3, 6), dtype=torch.float32)\n",
    "t = torch.randn((3, 6), dtype=torch.float32)\n",
    "l=loss(v,t)\n",
    "dloss(v,t)"
   ]
  },
  {
   "cell_type": "code",
   "execution_count": 142,
   "metadata": {},
   "outputs": [],
   "source": [
    "# multiply targets by 0.9 to be in the range of tanh\n",
    "train_target *= 0.9\n",
    "test_target *= 0.9"
   ]
  },
  {
   "cell_type": "markdown",
   "metadata": {},
   "source": [
    "### Step 1: Backprop ninja"
   ]
  },
  {
   "cell_type": "code",
   "execution_count": 143,
   "metadata": {},
   "outputs": [],
   "source": [
    "# utility function we will use later when comparing manual gradients to PyTorch gradients\n",
    "# DO NOT MODIFY IT\n",
    "#\n",
    "def cmp(s, dt, t):\n",
    "  ex = torch.all(dt == t.grad).item()\n",
    "  app = torch.allclose(dt, t.grad)\n",
    "  maxdiff = (dt - t.grad).abs().max().item()\n",
    "  print(f'{s:15s} | exact: {str(ex):5s} | approximate: {str(app):5s} | maxdiff: {maxdiff}')"
   ]
  },
  {
   "cell_type": "code",
   "execution_count": 144,
   "metadata": {},
   "outputs": [],
   "source": [
    "torch.manual_seed(1337)\n",
    "w1 = torch.randn((784, 50)) \n",
    "b1 = torch.randn((50))\n",
    "w2 = torch.randn((50, 10)) \n",
    "b2 = torch.randn((10))\n",
    "parameters = [w1, b1, w2, b2]\n",
    "for p in parameters:\n",
    "    p.requires_grad = True"
   ]
  },
  {
   "cell_type": "code",
   "execution_count": 145,
   "metadata": {},
   "outputs": [
    {
     "data": {
      "text/plain": [
       "(torch.Size([5, 10]), tensor(42.8991, grad_fn=<SumBackward0>))"
      ]
     },
     "execution_count": 145,
     "metadata": {},
     "output_type": "execute_result"
    }
   ],
   "source": [
    "x1 = train_input[:5]\n",
    "y1 = train_target[:5]\n",
    "z1 = x1 @ w1 + b1.T\n",
    "h1 = sigma(z1)\n",
    "z2 = h1 @ w2 + b2.T\n",
    "h2 = sigma(z2)\n",
    "l = loss(h2, y1)\n",
    "h2.shape, l"
   ]
  },
  {
   "cell_type": "code",
   "execution_count": 146,
   "metadata": {},
   "outputs": [
    {
     "name": "stdout",
     "output_type": "stream",
     "text": [
      "loss=42.89912033081055\n"
     ]
    }
   ],
   "source": [
    "# Force pytorch to retain grade for intermediate nodes and reset grad for parameters\n",
    "# DO NOT MODIFY THIS CODE\n",
    "#\n",
    "others = [h2,z2,h1,z1]\n",
    "for p in parameters:\n",
    "    p.grad = None\n",
    "for t in others:\n",
    "    t.retain_grad()\n",
    "l.backward()\n",
    "print(f'loss={l}')"
   ]
  },
  {
   "cell_type": "code",
   "execution_count": 147,
   "metadata": {},
   "outputs": [
    {
     "data": {
      "text/plain": [
       "torch.Size([10])"
      ]
     },
     "execution_count": 147,
     "metadata": {},
     "output_type": "execute_result"
    }
   ],
   "source": [
    "b2.grad.shape"
   ]
  },
  {
   "cell_type": "code",
   "execution_count": 148,
   "metadata": {},
   "outputs": [
    {
     "name": "stdout",
     "output_type": "stream",
     "text": [
      "h2              | exact: True  | approximate: True  | maxdiff: 0.0\n",
      "z2              | exact: True  | approximate: True  | maxdiff: 0.0\n",
      "w2              | exact: True  | approximate: True  | maxdiff: 0.0\n",
      "b2              | exact: True  | approximate: True  | maxdiff: 0.0\n",
      "h1              | exact: True  | approximate: True  | maxdiff: 0.0\n",
      "z1              | exact: True  | approximate: True  | maxdiff: 0.0\n",
      "w1              | exact: True  | approximate: True  | maxdiff: 0.0\n",
      "b1              | exact: True  | approximate: True  | maxdiff: 0.0\n"
     ]
    }
   ],
   "source": [
    "# here we compare our gradient to the reference gradient computed by pytorch\n",
    "dl = 1.0\n",
    "dh2 = dloss(h2, y1) * dl\n",
    "cmp('h2',dh2,h2)\n",
    "dz2 = dsigma(z2) * dh2\n",
    "cmp('z2',dz2, z2)\n",
    "dw2 = h1.T @ dz2\n",
    "cmp('w2',dw2, w2)\n",
    "db2 = dz2.sum(axis=0, keepdim=True)\n",
    "cmp('b2',db2, b2)\n",
    "dh1 = dz2 @ w2.T\n",
    "cmp('h1',dh1, h1)\n",
    "dz1 = dsigma(z1) * dh1\n",
    "cmp('z1', dz1, z1)\n",
    "dw1 = x1.T @ dz1\n",
    "cmp('w1', dw1, w1)\n",
    "db1 = dz1.sum(axis=0, keepdim=True)\n",
    "cmp('b1', db1, b1)"
   ]
  },
  {
   "cell_type": "code",
   "execution_count": 149,
   "metadata": {},
   "outputs": [],
   "source": [
    "lr = 0.1\n",
    "with torch.no_grad():\n",
    "    w1 += -lr * dw1\n",
    "    b1 += -lr * db1.squeeze()\n",
    "    w2 += -lr * dw2\n",
    "    b2 += -lr * db2.squeeze()"
   ]
  },
  {
   "cell_type": "code",
   "execution_count": 150,
   "metadata": {},
   "outputs": [
    {
     "data": {
      "text/plain": [
       "42.89912033081055"
      ]
     },
     "execution_count": 150,
     "metadata": {},
     "output_type": "execute_result"
    }
   ],
   "source": [
    "l = loss(h2, y1)\n",
    "l.item()"
   ]
  },
  {
   "cell_type": "markdown",
   "metadata": {},
   "source": [
    "##### Now that we've checked our gradients are correct, we can implement the network"
   ]
  },
  {
   "cell_type": "code",
   "execution_count": 151,
   "metadata": {},
   "outputs": [],
   "source": [
    "def forward(w1, b1, w2, b2, x1):\n",
    "    z1 = x1 @ w1 + b1.T\n",
    "    h1 = sigma(z1)\n",
    "    z2 = h1 @ w2 + b2.T\n",
    "    h2 = sigma(z2)\n",
    "    return z1, h1, z2, h2\n"
   ]
  },
  {
   "cell_type": "code",
   "execution_count": 152,
   "metadata": {},
   "outputs": [],
   "source": [
    "def backward(w1, b1, w2, b2, x1, y1, h2, z2, h1, z1):\n",
    "    dl = 1.0\n",
    "    dh2 = dloss(h2, y1) * dl\n",
    "    dz2 = dsigma(z2) * dh2\n",
    "    dw2 = h1.T @ dz2\n",
    "    db2 = dz2.sum(axis=0, keepdim=True)\n",
    "    dh1 = dz2 @ w2.T\n",
    "    dz1 = dsigma(z1) * dh1\n",
    "    dw1 = x1.T @ dz1\n",
    "    db1 = dz1.sum(axis=0, keepdim=True)\n",
    "    return dw1, db1, dw2, db2"
   ]
  },
  {
   "cell_type": "code",
   "execution_count": 153,
   "metadata": {},
   "outputs": [],
   "source": [
    "def update(w1, b1, w2, b2, dw1, db1, dw2, db2, lr):\n",
    "    with torch.no_grad():\n",
    "        w1 += -lr * dw1\n",
    "        b1 += -lr * db1.squeeze()\n",
    "        w2 += -lr * dw2\n",
    "        b2 += -lr * db2.squeeze()\n",
    "    return w1, b1, w2, b2"
   ]
  },
  {
   "cell_type": "code",
   "execution_count": 154,
   "metadata": {},
   "outputs": [],
   "source": [
    "def init():\n",
    "    \"\"\" init a network \"\"\"\n",
    "    w1 = torch.randn((784, 50), requires_grad=True) \n",
    "    b1 = torch.randn((50), requires_grad=True)\n",
    "    w2 = torch.randn((50, 10), requires_grad=True) \n",
    "    b2 = torch.randn((10), requires_grad=True)\n",
    "    return w1, b1, w2, b2"
   ]
  },
  {
   "cell_type": "code",
   "execution_count": 155,
   "metadata": {},
   "outputs": [],
   "source": [
    "w1, b1, w2, b2 = init()\n",
    "parameters = [w1, b1, w2, b2]\n",
    "for p in parameters:\n",
    "    p.requires_grad_(True)"
   ]
  },
  {
   "cell_type": "code",
   "execution_count": 159,
   "metadata": {},
   "outputs": [],
   "source": [
    "# main training loop\n",
    "torch.set_printoptions(linewidth=200)\n",
    "def train(w1, b1, w2, b2):\n",
    "    lossi = []\n",
    "    for step in range(10000):\n",
    "        xb = train_input[:5]\n",
    "        yb = train_target[:5]\n",
    "        num_samples = xb.shape[0]\n",
    "        # forward\n",
    "        z1, h1, z2, h2 = forward(w1, b1, w2, b2, xb)\n",
    "        lsi = loss(h2, yb)\n",
    "        # backward\n",
    "        dw1, db1, dw2, db2 = backward(w1, b1, w2, b2, x1, y1, h2, z2, h1, z1)\n",
    "        # update\n",
    "        lr = 0.1 / num_samples if step < 5000 else 0.01 / num_samples\n",
    "        w1, b1, w2, b2 = update(w1, b1, w2, b2, dw1, db1, dw2, db2, lr)\n",
    "        if step % 100 == 0: print(f'step = {step}, loss = {lsi}')\n",
    "        lossi.append(lsi.item())\n",
    "    # compute accuracy\n",
    "    _, _, _, preds = forward(w1, b1, w2, b2, train_input)\n",
    "    train_accuracy = compute_accuracy(preds, train_target)\n",
    "    _, _, _, preds = forward(w1, b1, w2, b2, test_input)\n",
    "    test_accuracy = compute_accuracy(preds, test_target)\n",
    "    print(f'{train_accuracy=}')\n",
    "    print(f'{test_accuracy=}')\n",
    "    return lossi\n",
    "    "
   ]
  },
  {
   "cell_type": "code",
   "execution_count": 160,
   "metadata": {},
   "outputs": [
    {
     "name": "stdout",
     "output_type": "stream",
     "text": [
      "step = 0, loss = 18.54423713684082\n",
      "step = 100, loss = 23.88232421875\n",
      "step = 200, loss = 23.911727905273438\n",
      "step = 300, loss = 23.912458419799805\n",
      "step = 400, loss = 23.914936065673828\n",
      "step = 500, loss = 23.853044509887695\n",
      "step = 600, loss = 23.944177627563477\n",
      "step = 700, loss = 23.612857818603516\n",
      "step = 800, loss = 23.965911865234375\n",
      "step = 900, loss = 23.931297302246094\n",
      "step = 1000, loss = 23.873802185058594\n",
      "step = 1100, loss = 24.27079200744629\n",
      "step = 1200, loss = 23.87482452392578\n",
      "step = 1300, loss = 23.88203239440918\n",
      "step = 1400, loss = 23.88540267944336\n",
      "step = 1500, loss = 23.877037048339844\n",
      "step = 1600, loss = 23.835872650146484\n",
      "step = 1700, loss = 23.8411865234375\n",
      "step = 1800, loss = 23.848764419555664\n",
      "step = 1900, loss = 23.83272361755371\n",
      "step = 2000, loss = 23.826618194580078\n",
      "step = 2100, loss = 23.85289764404297\n",
      "step = 2200, loss = 23.89093589782715\n",
      "step = 2300, loss = 23.893373489379883\n",
      "step = 2400, loss = 23.894832611083984\n",
      "step = 2500, loss = 23.895586013793945\n",
      "step = 2600, loss = 23.8640193939209\n",
      "step = 2700, loss = 23.870586395263672\n",
      "step = 2800, loss = 23.87055015563965\n",
      "step = 2900, loss = 23.871694564819336\n",
      "step = 3000, loss = 23.86659812927246\n",
      "step = 3100, loss = 23.864639282226562\n",
      "step = 3200, loss = 23.759105682373047\n",
      "step = 3300, loss = 23.741138458251953\n",
      "step = 3400, loss = 23.734838485717773\n",
      "step = 3500, loss = 23.715869903564453\n",
      "step = 3600, loss = 23.159744262695312\n",
      "step = 3700, loss = 23.144800186157227\n",
      "step = 3800, loss = 23.144466400146484\n",
      "step = 3900, loss = 23.13682746887207\n",
      "step = 4000, loss = 23.173538208007812\n",
      "step = 4100, loss = 23.20425796508789\n",
      "step = 4200, loss = 23.21598243713379\n",
      "step = 4300, loss = 23.223388671875\n",
      "step = 4400, loss = 23.184566497802734\n",
      "step = 4500, loss = 23.176162719726562\n",
      "step = 4600, loss = 23.179845809936523\n",
      "step = 4700, loss = 23.17840003967285\n",
      "step = 4800, loss = 23.17759895324707\n",
      "step = 4900, loss = 23.17700958251953\n",
      "step = 5000, loss = 23.17662811279297\n",
      "step = 5100, loss = 17.544347763061523\n",
      "step = 5200, loss = 17.544357299804688\n",
      "step = 5300, loss = 17.54430389404297\n",
      "step = 5400, loss = 17.54430389404297\n",
      "step = 5500, loss = 17.54430389404297\n",
      "step = 5600, loss = 17.54430389404297\n",
      "step = 5700, loss = 17.54430389404297\n",
      "step = 5800, loss = 17.54430389404297\n",
      "step = 5900, loss = 17.54430389404297\n",
      "step = 6000, loss = 17.54430389404297\n",
      "step = 6100, loss = 17.54430389404297\n",
      "step = 6200, loss = 17.54430389404297\n",
      "step = 6300, loss = 17.54430389404297\n",
      "step = 6400, loss = 17.54430389404297\n",
      "step = 6500, loss = 17.54430389404297\n",
      "step = 6600, loss = 17.54430389404297\n",
      "step = 6700, loss = 17.54430389404297\n",
      "step = 6800, loss = 17.54430389404297\n",
      "step = 6900, loss = 17.54430389404297\n",
      "step = 7000, loss = 17.54430389404297\n",
      "step = 7100, loss = 17.54430389404297\n",
      "step = 7200, loss = 17.54430389404297\n",
      "step = 7300, loss = 17.54430389404297\n",
      "step = 7400, loss = 17.54430389404297\n",
      "step = 7500, loss = 17.54430389404297\n",
      "step = 7600, loss = 17.54430389404297\n",
      "step = 7700, loss = 17.54430389404297\n",
      "step = 7800, loss = 17.54430389404297\n",
      "step = 7900, loss = 17.54430389404297\n",
      "step = 8000, loss = 17.54430389404297\n",
      "step = 8100, loss = 17.54430389404297\n",
      "step = 8200, loss = 17.54430389404297\n",
      "step = 8300, loss = 17.54430389404297\n",
      "step = 8400, loss = 17.54430389404297\n",
      "step = 8500, loss = 17.54430389404297\n",
      "step = 8600, loss = 17.54430389404297\n",
      "step = 8700, loss = 17.54430389404297\n",
      "step = 8800, loss = 17.54430389404297\n",
      "step = 8900, loss = 17.54430389404297\n",
      "step = 9000, loss = 17.54430389404297\n",
      "step = 9100, loss = 17.54430389404297\n",
      "step = 9200, loss = 17.54430389404297\n",
      "step = 9300, loss = 17.54430389404297\n",
      "step = 9400, loss = 17.54430389404297\n",
      "step = 9500, loss = 17.54430389404297\n",
      "step = 9600, loss = 17.54430389404297\n",
      "step = 9700, loss = 17.54430389404297\n",
      "step = 9800, loss = 17.54430389404297\n",
      "step = 9900, loss = 17.54430389404297\n",
      "train_accuracy=0.11900000274181366\n",
      "test_accuracy=0.09799999743700027\n"
     ]
    }
   ],
   "source": [
    "lossi = train(w1, b1, w2, b2)"
   ]
  },
  {
   "cell_type": "code",
   "execution_count": 161,
   "metadata": {},
   "outputs": [
    {
     "data": {
      "text/plain": [
       "[<matplotlib.lines.Line2D at 0x7fd20eb101f0>]"
      ]
     },
     "execution_count": 161,
     "metadata": {},
     "output_type": "execute_result"
    },
    {
     "data": {
      "image/png": "[encoded data removed]",
      "text/plain": [
       "<Figure size 640x480 with 1 Axes>"
      ]
     },
     "metadata": {},
     "output_type": "display_data"
    }
   ],
   "source": [
    "plt.plot(lossi)"
   ]
  },
  {
   "cell_type": "markdown",
   "metadata": {},
   "source": [
    "### Step 2: Reference implementation using pytorch's .backward()\n",
    "Nothing to do in Step 2, this code is provided for you as a reference"
   ]
  },
  {
   "cell_type": "code",
   "execution_count": 162,
   "metadata": {},
   "outputs": [],
   "source": [
    "w1, b1, w2, b2 = init()\n",
    "parameters = [w1, b1, w2, b2]\n",
    "for p in parameters:\n",
    "    p.requires_grad_(True)"
   ]
  },
  {
   "cell_type": "code",
   "execution_count": 163,
   "metadata": {},
   "outputs": [],
   "source": [
    "# reference code\n",
    "torch.set_printoptions(linewidth=200)\n",
    "import torch.nn as F\n",
    "\n",
    "def train(w1, b1, w2, b2):\n",
    "    lossi = []\n",
    "    for step in range(10000):\n",
    "        xb = train_input\n",
    "        yb = train_target\n",
    "        num_samples = xb.shape[0]\n",
    "        # forward\n",
    "        z1, h1, z2, h2 = forward(w1, b1, w2, b2, xb)\n",
    "        xloss = F.MSELoss()\n",
    "        lsi = xloss(h2, yb) * yb.nelement()\n",
    "        # backward\n",
    "        for p in parameters:\n",
    "            p.grad = None\n",
    "        lsi.backward()\n",
    "        # update\n",
    "        lr = 0.1 / num_samples\n",
    "        for p in parameters:\n",
    "            p.data += -lr * p.grad\n",
    "        if step % 100 == 0: print(f'step = {step}, loss = {lsi}')\n",
    "        lossi.append(lsi.item())\n",
    "    # compute accuracy\n",
    "    _, _, _, preds = forward(w1, b1, w2, b2, train_input)\n",
    "    train_accuracy = compute_accuracy(preds, train_target)\n",
    "    _, _, _, preds = forward(w1, b1, w2, b2, test_input)\n",
    "    test_accuracy = compute_accuracy(preds, test_target)\n",
    "    print(f'{train_accuracy=}')\n",
    "    print(f'{test_accuracy=}')\n",
    "    return lossi"
   ]
  },
  {
   "cell_type": "code",
   "execution_count": 164,
   "metadata": {},
   "outputs": [
    {
     "name": "stdout",
     "output_type": "stream",
     "text": [
      "step = 0, loss = 9033.10546875\n",
      "step = 100, loss = 7931.91650390625\n",
      "step = 200, loss = 7574.85546875\n",
      "step = 300, loss = 7290.43701171875\n",
      "step = 400, loss = 7090.73388671875\n",
      "step = 500, loss = 6875.564453125\n",
      "step = 600, loss = 6651.2177734375\n",
      "step = 700, loss = 6220.80126953125\n",
      "step = 800, loss = 6091.087890625\n",
      "step = 900, loss = 5922.36181640625\n",
      "step = 1000, loss = 5597.13623046875\n",
      "step = 1100, loss = 5343.1669921875\n",
      "step = 1200, loss = 5112.7080078125\n",
      "step = 1300, loss = 4522.4677734375\n",
      "step = 1400, loss = 4489.33837890625\n",
      "step = 1500, loss = 4413.7587890625\n",
      "step = 1600, loss = 4311.78466796875\n",
      "step = 1700, loss = 4130.39990234375\n",
      "step = 1800, loss = 3808.237548828125\n",
      "step = 1900, loss = 3740.405029296875\n",
      "step = 2000, loss = 3640.863037109375\n",
      "step = 2100, loss = 3426.469970703125\n",
      "step = 2200, loss = 3200.10888671875\n",
      "step = 2300, loss = 3119.73828125\n",
      "step = 2400, loss = 3037.860595703125\n",
      "step = 2500, loss = 2937.44970703125\n",
      "step = 2600, loss = 2756.23779296875\n",
      "step = 2700, loss = 2276.282958984375\n",
      "step = 2800, loss = 1914.750244140625\n",
      "step = 2900, loss = 1788.09130859375\n",
      "step = 3000, loss = 1571.273193359375\n",
      "step = 3100, loss = 1207.9058837890625\n",
      "step = 3200, loss = 945.5299072265625\n",
      "step = 3300, loss = 822.29443359375\n",
      "step = 3400, loss = 727.5897216796875\n",
      "step = 3500, loss = 660.3909301757812\n",
      "step = 3600, loss = 614.625\n",
      "step = 3700, loss = 566.0053100585938\n",
      "step = 3800, loss = 522.9073486328125\n",
      "step = 3900, loss = 464.3669738769531\n",
      "step = 4000, loss = 297.49627685546875\n",
      "step = 4100, loss = 146.17398071289062\n",
      "step = 4200, loss = 129.79368591308594\n",
      "step = 4300, loss = 125.59953308105469\n",
      "step = 4400, loss = 124.041015625\n",
      "step = 4500, loss = 123.20968627929688\n",
      "step = 4600, loss = 122.59602355957031\n",
      "step = 4700, loss = 122.05095672607422\n",
      "step = 4800, loss = 121.51463317871094\n",
      "step = 4900, loss = 120.9745864868164\n",
      "step = 5000, loss = 120.46403503417969\n",
      "step = 5100, loss = 119.98758697509766\n",
      "step = 5200, loss = 119.53550720214844\n",
      "step = 5300, loss = 119.10183715820312\n",
      "step = 5400, loss = 118.68307495117188\n",
      "step = 5500, loss = 118.27471923828125\n",
      "step = 5600, loss = 117.86847686767578\n",
      "step = 5700, loss = 117.45465850830078\n",
      "step = 5800, loss = 117.04301452636719\n",
      "step = 5900, loss = 116.64686584472656\n",
      "step = 6000, loss = 116.26956176757812\n",
      "step = 6100, loss = 115.91397094726562\n",
      "step = 6200, loss = 115.57555389404297\n",
      "step = 6300, loss = 115.24785614013672\n",
      "step = 6400, loss = 114.9267349243164\n",
      "step = 6500, loss = 114.61190032958984\n",
      "step = 6600, loss = 114.3050537109375\n",
      "step = 6700, loss = 114.00804901123047\n",
      "step = 6800, loss = 113.72289276123047\n",
      "step = 6900, loss = 113.45144653320312\n",
      "step = 7000, loss = 113.19363403320312\n",
      "step = 7100, loss = 112.94754791259766\n",
      "step = 7200, loss = 112.71136474609375\n",
      "step = 7300, loss = 112.48397064208984\n",
      "step = 7400, loss = 112.26515197753906\n",
      "step = 7500, loss = 112.05470275878906\n",
      "step = 7600, loss = 111.8519058227539\n",
      "step = 7700, loss = 111.65547943115234\n",
      "step = 7800, loss = 111.46415710449219\n",
      "step = 7900, loss = 111.27694702148438\n",
      "step = 8000, loss = 111.09325408935547\n",
      "step = 8100, loss = 110.91258239746094\n",
      "step = 8200, loss = 110.73461151123047\n",
      "step = 8300, loss = 110.55870819091797\n",
      "step = 8400, loss = 110.38397216796875\n",
      "step = 8500, loss = 110.2088851928711\n",
      "step = 8600, loss = 110.03170013427734\n",
      "step = 8700, loss = 109.85157775878906\n",
      "step = 8800, loss = 109.670654296875\n",
      "step = 8900, loss = 109.49365234375\n",
      "step = 9000, loss = 109.32290649414062\n",
      "step = 9100, loss = 109.15774536132812\n",
      "step = 9200, loss = 108.99642181396484\n",
      "step = 9300, loss = 108.83760833740234\n",
      "step = 9400, loss = 108.68069458007812\n",
      "step = 9500, loss = 108.52497863769531\n",
      "step = 9600, loss = 108.3689193725586\n",
      "step = 9700, loss = 108.21107482910156\n",
      "step = 9800, loss = 108.05183410644531\n",
      "step = 9900, loss = 107.89330291748047\n",
      "train_accuracy=0.8180000185966492\n",
      "test_accuracy=0.5989999771118164\n"
     ]
    }
   ],
   "source": [
    "lossi = train(w1, b1, w2, b2)"
   ]
  },
  {
   "cell_type": "code",
   "execution_count": 165,
   "metadata": {},
   "outputs": [
    {
     "data": {
      "text/plain": [
       "[<matplotlib.lines.Line2D at 0x7fd20e761e50>]"
      ]
     },
     "execution_count": 165,
     "metadata": {},
     "output_type": "execute_result"
    },
    {
     "data": {
      "image/png": "[encoded data removed]",
      "text/plain": [
       "<Figure size 640x480 with 1 Axes>"
      ]
     },
     "metadata": {},
     "output_type": "display_data"
    }
   ],
   "source": [
    "plt.plot(lossi)"
   ]
  },
  {
   "cell_type": "markdown",
   "metadata": {},
   "source": [
    "### Step 3: Build the same MLP layer but with fully pytorch code (nn.Linear(), etc.)"
   ]
  },
  {
   "cell_type": "code",
   "execution_count": 166,
   "metadata": {},
   "outputs": [],
   "source": [
    "# network dimensions\n",
    "n_in = 784\n",
    "n_hidden = 200\n",
    "n_out = 10"
   ]
  },
  {
   "cell_type": "code",
   "execution_count": 167,
   "metadata": {},
   "outputs": [],
   "source": [
    "X_tr, Y_tr = train_input, train_target\n",
    "X_test, Y_test = test_input, test_target"
   ]
  },
  {
   "cell_type": "code",
   "execution_count": 168,
   "metadata": {},
   "outputs": [],
   "source": [
    "class MLP(nn.Module):\n",
    "\n",
    "    def __init__(self):\n",
    "        super().__init__()\n",
    "        self.layers = nn.ModuleList((\n",
    "            nn.Linear(n_in, n_hidden), \n",
    "            nn.Tanh(), \n",
    "            nn.Linear(n_hidden, n_out),\n",
    "            nn.Tanh() \n",
    "        ))\n",
    "\n",
    "    def __call__(self, x):\n",
    "        for layer in self.layers:\n",
    "            x = layer(x)\n",
    "        return x\n",
    "    \n",
    "    def __parameters__(self):\n",
    "        return [p for layer in self.layers for p in layer.parameters]\n",
    "\n",
    "model = MLP()\n",
    "optimizer = torch.optim.AdamW(model.parameters(), lr=1e-3)\n",
    "loss_fn = nn.MSELoss()"
   ]
  },
  {
   "cell_type": "code",
   "execution_count": 169,
   "metadata": {},
   "outputs": [
    {
     "name": "stdout",
     "output_type": "stream",
     "text": [
      "step =      0\tloss=0.06714\taccuracy (train, test): 0.14400\t0.25700\n",
      "step =   1000\tloss=0.00007\taccuracy (train, test): 1.00000\t0.85700\n",
      "step =   2000\tloss=0.00001\taccuracy (train, test): 1.00000\t0.86300\n",
      "step =   3000\tloss=0.00005\taccuracy (train, test): 1.00000\t0.86600\n",
      "step =   4000\tloss=0.00000\taccuracy (train, test): 1.00000\t0.86300\n",
      "step =   5000\tloss=0.00005\taccuracy (train, test): 1.00000\t0.86900\n",
      "step =   6000\tloss=0.00000\taccuracy (train, test): 1.00000\t0.86900\n",
      "step =   7000\tloss=0.00001\taccuracy (train, test): 1.00000\t0.86900\n",
      "step =   8000\tloss=0.00005\taccuracy (train, test): 1.00000\t0.87000\n",
      "step =   9000\tloss=0.00002\taccuracy (train, test): 1.00000\t0.87000\n"
     ]
    }
   ],
   "source": [
    "# training\n",
    "num_epochs = 10000\n",
    "\n",
    "for n in range(num_epochs):\n",
    "    y_pred = model(X_tr)\n",
    "    loss = loss_fn(y_pred, Y_tr)\n",
    "    optimizer.zero_grad()\n",
    "    loss.backward()\n",
    "    optimizer.step()\n",
    "    if n % 1000 == 0: \n",
    "        with torch.no_grad():\n",
    "            # train accuracy\n",
    "            acc_train = compute_accuracy(y_pred, Y_tr)\n",
    "            # test accuracy\n",
    "            y_test_preds = model(X_test)\n",
    "            acc_test = compute_accuracy(y_test_preds, Y_test)\n",
    "            print(f'step = {n:6d}\\tloss={loss.item():.5f}\\taccuracy (train, test): {acc_train:.5f}\\t{acc_test:.5f}')"
   ]
  },
  {
   "cell_type": "markdown",
   "metadata": {},
   "source": [
    "##### Exercise: try to improve accuracy!"
   ]
  },
  {
   "cell_type": "code",
   "execution_count": null,
   "metadata": {},
   "outputs": [],
   "source": [
    "class MLP2(nn.Module):\n",
    "\n",
    "    def __init__(self):\n",
    "        super().__init__()\n",
    "        self.layers = nn.ModuleList((\n",
    "            nn.Linear(n_in, n_hidden), \n",
    "            nn.Tanh(), \n",
    "            nn.Linear(n_hidden, n_out),\n",
    "            nn.Tanh() \n",
    "        ))\n",
    "\n",
    "    def __call__(self, x):\n",
    "        for layer in self.layers:\n",
    "            x = layer(x)\n",
    "        return x\n",
    "    \n",
    "    def __parameters__(self):\n",
    "        return [p for layer in self.layers for p in layer.parameters]\n",
    "\n",
    "model = MLP2()\n",
    "optimizer = torch.optim.AdamW(model.parameters(), lr=1e-3)\n",
    "loss_fn = nn.MSELoss()"
   ]
  },
  {
   "cell_type": "code",
   "execution_count": null,
   "metadata": {},
   "outputs": [],
   "source": [
    "# training\n",
    "num_epochs = 10000\n",
    "\n",
    "for n in range(num_epochs):\n",
    "    y_pred = model(X_tr)\n",
    "    loss = loss_fn(y_pred, Y_tr)\n",
    "    optimizer.zero_grad()\n",
    "    loss.backward()\n",
    "    optimizer.step()\n",
    "    if n % 1000 == 0: \n",
    "        with torch.no_grad():\n",
    "            # train accuracy\n",
    "            acc_train = compute_accuracy(y_pred, Y_tr)\n",
    "            # test accuracy\n",
    "            y_test_preds = model(X_test)\n",
    "            acc_test = compute_accuracy(y_test_preds, Y_test)\n",
    "            print(f'step = {n:6d}\\tloss={loss.item():.5f}\\taccuracy (train, test): {acc_train:.5f}\\t{acc_test:.5f}')"
   ]
  }
 ],
 "metadata": {
  "kernelspec": {
   "display_name": "Python (nail_env)",
   "language": "python",
   "name": "nail_env"
  },
  "language_info": {
   "codemirror_mode": {
    "name": "ipython",
    "version": 3
   },
   "file_extension": ".py",
   "mimetype": "text/x-python",
   "name": "python",
   "nbconvert_exporter": "python",
   "pygments_lexer": "ipython3",
   "version": "3.9.10"
  }
 },
 "nbformat": 4,
 "nbformat_minor": 2
}
